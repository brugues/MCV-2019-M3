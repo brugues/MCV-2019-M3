{
 "cells": [
  {
   "cell_type": "markdown",
   "metadata": {},
   "source": [
    "# Week 2 Project"
   ]
  },
  {
   "cell_type": "markdown",
   "metadata": {},
   "source": [
    "**Students**: Sergio Casas Pastor, Sanket Biswas and Josep Brugués i Pujolràs"
   ]
  },
  {
   "cell_type": "markdown",
   "metadata": {},
   "source": [
    "**TEST CODE**"
   ]
  },
  {
   "cell_type": "code",
   "execution_count": 15,
   "metadata": {
    "pycharm": {
     "is_executing": false
    }
   },
   "outputs": [],
   "source": [
    "from __future__ import print_function\n",
    "import cv2\n",
    "import numpy as np\n",
    "\n",
    "try:\n",
    "   import cPickle as pickle # Python 2\n",
    "except:\n",
    "   import pickle # Python 3\n",
    "\n",
    "from sklearn.cluster import MiniBatchKMeans\n",
    "from sklearn.neighbors import KNeighborsClassifier\n",
    "from sklearn.decomposition import PCA\n",
    "from sklearn.discriminant_analysis import LinearDiscriminantAnalysis\n",
    "from sklearn.preprocessing import Normalizer, PowerTransformer, MinMaxScaler, power_transform\n",
    "import sklearn\n",
    "import time\n",
    "from matplotlib import pyplot as plt\n",
    "from sklearn.model_selection import StratifiedKFold\n",
    "from sklearn.model_selection import GridSearchCV"
   ]
  },
  {
   "cell_type": "markdown",
   "metadata": {},
   "source": [
    "Let us first read the train and test files"
   ]
  },
  {
   "cell_type": "code",
   "execution_count": 17,
   "metadata": {
    "pycharm": {
     "is_executing": false
    }
   },
   "outputs": [],
   "source": [
    "try:\n",
    "    train_images_filenames = pickle.load(open('train_images_filenames.dat','r'))\n",
    "    test_images_filenames = pickle.load(open('test_images_filenames.dat','r'))\n",
    "    train_labels = pickle.load(open('train_labels.dat','r'))\n",
    "    test_labels = pickle.load(open('test_labels.dat','r'))\n",
    "except:\n",
    "    train_images_filenames = pickle.load(open('train_images_filenames.dat','rb'))\n",
    "    test_images_filenames = pickle.load(open('test_images_filenames.dat','rb'))\n",
    "    train_labels = pickle.load(open('train_labels.dat','rb'))\n",
    "    test_labels = pickle.load(open('test_labels.dat','rb'))"
   ]
  },
  {
   "cell_type": "code",
   "execution_count": 19,
   "metadata": {
    "pycharm": {
     "is_executing": false
    }
   },
   "outputs": [
    {
     "data": {
      "text/plain": [
       "'../../Databases/MIT_split/train/Opencountry/fie26.jpg'"
      ]
     },
     "execution_count": 19,
     "metadata": {},
     "output_type": "execute_result"
    }
   ],
   "source": [
    "train_images_filenames[12]"
   ]
  },
  {
   "cell_type": "code",
   "execution_count": 21,
   "metadata": {
    "pycharm": {
     "is_executing": false,
     "name": "#%%\n"
    }
   },
   "outputs": [
    {
     "data": {
      "text/plain": [
       "'Opencountry'"
      ]
     },
     "execution_count": 21,
     "metadata": {},
     "output_type": "execute_result"
    }
   ],
   "source": [
    "train_labels[12]"
   ]
  },
  {
   "cell_type": "markdown",
   "metadata": {
    "pycharm": {
     "name": "#%% md\n"
    }
   },
   "source": [
    "We create a SIFT object detector and descriptor"
   ]
  },
  {
   "cell_type": "code",
   "execution_count": 23,
   "metadata": {
    "pycharm": {
     "is_executing": false,
     "name": "#%%\n"
    }
   },
   "outputs": [],
   "source": [
    "SIFTdetector = cv2.xfeatures2d.SIFT_create(nfeatures=900)\n",
    "start = time.time()"
   ]
  },
  {
   "cell_type": "markdown",
   "metadata": {
    "pycharm": {
     "name": "#%% md\n"
    }
   },
   "source": [
    "We create a Normalizer"
   ]
  },
  {
   "cell_type": "code",
   "execution_count": 24,
   "metadata": {
    "pycharm": {
     "is_executing": false,
     "name": "#%%\n"
    }
   },
   "outputs": [],
   "source": [
    "norm = \"minmax\" #Valid norms: l1, l2, max, power, minmax\n",
    "\n",
    "if norm == \"power\":\n",
    "    transformer = PowerTransformer() # Defaults to ’yeo-johnson’ method \n",
    "                                                 # (Not working with scikit 0.20.4 because of a bug)\n",
    "elif norm == \"minmax\":\n",
    "    transformer = MinMaxScaler() # Defaults to 0-1 range\n",
    "else: # l1, l2 or max\n",
    "    try:\n",
    "        transformer = Normalizer(norm=norm)\n",
    "    except:\n",
    "        print(\"Invalid norm. Using L2 instead\")\n",
    "        transformer = Normalizer(norm=\"l2\")"
   ]
  },
  {
   "cell_type": "markdown",
   "metadata": {
    "pycharm": {
     "name": "#%% md\n"
    }
   },
   "source": [
    "We compute different spatial pyramid level"
   ]
  },
  {
   "cell_type": "code",
   "execution_count": 25,
   "metadata": {
    "pycharm": {
     "is_executing": false,
     "name": "#%%\n"
    }
   },
   "outputs": [],
   "source": [
    "level = 1\n",
    "level = 2**(level-1)"
   ]
  },
  {
   "cell_type": "markdown",
   "metadata": {
    "pycharm": {
     "name": "#%% md\n"
    }
   },
   "source": [
    "We compute the SIFT descriptors for the all the train images and subsequently build a numpy array with all the descriptors stacked together"
   ]
  },
  {
   "cell_type": "code",
   "execution_count": 26,
   "metadata": {
    "pycharm": {
     "is_executing": false,
     "name": "#%%\n"
    }
   },
   "outputs": [],
   "source": [
    "Train_descriptors = []\n",
    "Train_label_per_descriptor = []\n",
    "\n",
    "for filename,labels in zip(train_images_filenames,train_labels):\n",
    "    ima=cv2.imread(filename)\n",
    "    \n",
    "    # Resize image\n",
    "    scale_percent = 100 # percent of original size\n",
    "    width = int(ima.shape[1] * scale_percent / 100)\n",
    "    height = int(ima.shape[0] * scale_percent / 100)\n",
    "    dim = (width, height)\n",
    "    ima = cv2.resize(ima, dim, interpolation = cv2.INTER_AREA) \n",
    "    \n",
    "    gray=cv2.cvtColor(ima,cv2.COLOR_BGR2GRAY)\n",
    "    \n",
    "    step = 8 # Separation of pixels between keypoints\n",
    "    descriptors = []\n",
    "\n",
    "    # Compute spatial pyramids\n",
    "    height_block = int(np.ceil(ima.shape[0] / level))  # Number of height pixels for sub-image\n",
    "    width_block = int(np.ceil(ima.shape[1] / level))   # Number of width pixels for sub-image\n",
    "    \n",
    "    for height in range(0, ima.shape[0], height_block):\n",
    "        for width in range(0, ima.shape[1], width_block):\n",
    "            block = gray[height:height + height_block, width:width + width_block]\n",
    "            keypoints_block = []\n",
    "        \n",
    "            for i in range(int(step/2), block.shape[0], step):\n",
    "                for j in range(int(step/2), block.shape[1], step):             \n",
    "                    keypoints_block.append(cv2.KeyPoint(i, j, step))\n",
    "     \n",
    "            _, descriptors_block = SIFTdetector.compute(block,keypoints_block)\n",
    "            descriptors.extend(descriptors_block)\n",
    "    \n",
    "    Train_descriptors.append(descriptors)\n",
    "    Train_label_per_descriptor.append(labels)\n",
    "\n",
    "Train_descriptors = np.array(Train_descriptors)\n",
    "nsamples, nx, ny = Train_descriptors.shape\n",
    "Train_descriptors = Train_descriptors.reshape((nsamples,nx*ny))\n",
    "#nsamples, nx = Train_descriptors.shape\n",
    "Train_descriptors_scaled = transformer.fit_transform(Train_descriptors)\n",
    "Train_descriptors_scaled = Train_descriptors_scaled.reshape((nsamples, nx, ny))\n",
    "D=np.vstack(Train_descriptors_scaled)"
   ]
  },
  {
   "cell_type": "markdown",
   "metadata": {
    "pycharm": {
     "name": "#%% md\n"
    }
   },
   "source": [
    "We now compute a k-means clustering on the descriptor space"
   ]
  },
  {
   "cell_type": "code",
   "execution_count": 27,
   "metadata": {
    "pycharm": {
     "is_executing": false,
     "name": "#%%\n"
    }
   },
   "outputs": [
    {
     "data": {
      "text/plain": [
       "MiniBatchKMeans(batch_size=3400, compute_labels=False, init='k-means++',\n",
       "        init_size=None, max_iter=100, max_no_improvement=10,\n",
       "        n_clusters=170, n_init=3, random_state=42,\n",
       "        reassignment_ratio=0.0001, tol=0.0, verbose=False)"
      ]
     },
     "execution_count": 27,
     "metadata": {},
     "output_type": "execute_result"
    }
   ],
   "source": [
    "k = 170\n",
    "codebook = MiniBatchKMeans(n_clusters=k, verbose=False, batch_size=k * 20,compute_labels=False,reassignment_ratio=10**-4,random_state=42)\n",
    "codebook.fit(D)"
   ]
  },
  {
   "cell_type": "markdown",
   "metadata": {
    "pycharm": {
     "name": "#%% md\n"
    }
   },
   "source": [
    "And, for each train image, we project each keypoint descriptor to its closest visual word. We represent each of the images with the frequency of each visual word."
   ]
  },
  {
   "cell_type": "code",
   "execution_count": 28,
   "metadata": {
    "pycharm": {
     "is_executing": false,
     "name": "#%%\n"
    }
   },
   "outputs": [],
   "source": [
    "visual_words=np.zeros((len(Train_descriptors_scaled),k),dtype=np.float32)\n",
    "for i in range(len(Train_descriptors)):\n",
    "    words=codebook.predict(Train_descriptors_scaled[i])\n",
    "    visual_words[i,:]=np.bincount(words,minlength=k)"
   ]
  },
  {
   "cell_type": "markdown",
   "metadata": {
    "pycharm": {
     "name": "#%% md\n"
    }
   },
   "source": [
    "We build a k-nn classifier and train it with the train descriptors. We use GridSearchCV to do Cross-Validation and find the best parameters of the k-nn classifier."
   ]
  },
  {
   "cell_type": "code",
   "execution_count": 29,
   "metadata": {
    "pycharm": {
     "is_executing": true
    }
   },
   "outputs": [
    {
     "name": "stdout",
     "output_type": "stream",
     "text": [
      "Parameters set found on development set:\n"
     ]
    },
    {
     "data": {
      "image/png": "[encoded data removed]",
      "text/plain": [
       "<Figure size 432x288 with 1 Axes>"
      ]
     },
     "metadata": {
      "needs_background": "light"
     },
     "output_type": "display_data"
    },
    {
     "data": {
      "image/png": "[encoded data removed]",
      "text/plain": [
       "<Figure size 432x288 with 1 Axes>"
      ]
     },
     "metadata": {
      "needs_background": "light"
     },
     "output_type": "display_data"
    },
    {
     "data": {
      "image/png": "[encoded data removed]",
      "text/plain": [
       "<Figure size 432x288 with 1 Axes>"
      ]
     },
     "metadata": {
      "needs_background": "light"
     },
     "output_type": "display_data"
    },
    {
     "data": {
      "image/png": "[encoded data removed]",
      "text/plain": [
       "<Figure size 432x288 with 1 Axes>"
      ]
     },
     "metadata": {
      "needs_background": "light"
     },
     "output_type": "display_data"
    },
    {
     "name": "stdout",
     "output_type": "stream",
     "text": [
      "Maximum accuracy for validation set is 79.37267410951621 with n_neighbors = 40 and metric = manhattan\n"
     ]
    }
   ],
   "source": [
    "# Find best parameters\n",
    "parameters = {'n_neighbors':[1,5,10,15,20,25,30,35,40,45,50,55,60,65,70,75,80,85,90,95,100], \\\n",
    "              'metric':['euclidean','manhattan','chebyshev','minkowski']}\n",
    "knn = KNeighborsClassifier(n_jobs=-1)\n",
    "clf = GridSearchCV(knn, parameters, cv=5) # StratifiedKFold n_splits = 5\n",
    "clf.fit(visual_words, train_labels) \n",
    "\n",
    "print(\"Parameters set found on development set:\")\n",
    "means = 100 * clf.cv_results_['mean_test_score']\n",
    "\n",
    "# Train again with best parameters\n",
    "knn_best = KNeighborsClassifier(n_neighbors= clf.best_params_['n_neighbors'],n_jobs=-1,metric=clf.best_params_['metric'])\n",
    "knn_best.fit(visual_words, train_labels)\n",
    "\n",
    "plt.scatter(parameters['n_neighbors'], means[0:21])\n",
    "plt.xlabel(\"Number of neighbors\")\n",
    "plt.ylabel(\"Accuracy (%) for euclidean distance\")\n",
    "plt.ylim((40,100))\n",
    "plt.show()\n",
    "\n",
    "plt.scatter(parameters['n_neighbors'], means[21:42])\n",
    "plt.xlabel(\"Number of neighbors\")\n",
    "plt.ylabel(\"Accuracy (%) for manhattan distance\")\n",
    "plt.ylim((40,100))\n",
    "plt.show()\n",
    "\n",
    "plt.scatter(parameters['n_neighbors'], means[42:63])\n",
    "plt.xlabel(\"Number of neighbors\")\n",
    "plt.ylabel(\"Accuracy (%) for chebyshev distance\")\n",
    "plt.ylim((40,100))\n",
    "plt.show()\n",
    "\n",
    "plt.scatter(parameters['n_neighbors'], means[63:84])\n",
    "plt.xlabel(\"Number of neighbors\")\n",
    "plt.ylabel(\"Accuracy (%) for minkowski distance\")\n",
    "plt.ylim((40,100))\n",
    "plt.show()\n",
    "\n",
    "print (\"Maximum accuracy for validation set is\", max(means), \"with n_neighbors =\", clf.best_params_['n_neighbors'], \"and metric =\",  clf.best_params_['metric']) \n"
   ]
  },
  {
   "cell_type": "markdown",
   "metadata": {},
   "source": [
    "We end up computing the test descriptors and compute the accuracy of the model"
   ]
  },
  {
   "cell_type": "code",
   "execution_count": 30,
   "metadata": {
    "pycharm": {
     "is_executing": true
    }
   },
   "outputs": [],
   "source": [
    "visual_words_test=np.zeros((len(test_images_filenames),k),dtype=np.float32)\n",
    "Test_descriptors = []\n",
    "for image in range(len(test_images_filenames)):\n",
    "    filename=test_images_filenames[image]\n",
    "    ima=cv2.imread(filename)\n",
    "    \n",
    "    # Resize image\n",
    "    width = int(ima.shape[1] * scale_percent / 100)\n",
    "    height = int(ima.shape[0] * scale_percent / 100)\n",
    "    dim = (width, height)\n",
    "    ima = cv2.resize(ima, dim, interpolation = cv2.INTER_AREA) \n",
    "    \n",
    "    gray=cv2.cvtColor(ima,cv2.COLOR_BGR2GRAY)\n",
    "            \n",
    "    descriptors = []\n",
    "\n",
    "    # Compute spatial pyramids\n",
    "    height_block = int(np.ceil(ima.shape[0] / level))  # Number of height pixels for sub-image\n",
    "    width_block = int(np.ceil(ima.shape[1] / level))    # Number of width pixels for sub-image\n",
    "    for height in range(0, ima.shape[0], height_block):\n",
    "        for width in range(0, ima.shape[1], width_block):\n",
    "            block = gray[height:height + height_block, width:width + width_block]\n",
    "            keypoints_block = []\n",
    "    \n",
    "            for i in range(int(step/2), block.shape[0], step):\n",
    "                for j in range(int(step/2), block.shape[1], step):             \n",
    "                    keypoints_block.append(cv2.KeyPoint(i, j, step))\n",
    "            \n",
    "            _, descriptors_block = SIFTdetector.compute(block,keypoints_block)   \n",
    "            descriptors.extend(descriptors_block)\n",
    "    \n",
    "    Test_descriptors.append(descriptors)\n",
    "    \n",
    "Test_descriptors = np.array(Test_descriptors)\n",
    "nsamples, nx, ny = Test_descriptors.shape\n",
    "Test_descriptors = Test_descriptors.reshape((nsamples, nx*ny))\n",
    "Test_descriptors_scaled = transformer.transform(Test_descriptors)\n",
    "Test_descriptors_scaled = Test_descriptors_scaled.reshape((nsamples, nx, ny))\n",
    "\n",
    "for image in range(len(test_images_filenames)):\n",
    "    words=codebook.predict(Test_descriptors_scaled[image])\n",
    "    visual_words_test[image,:]=np.bincount(words,minlength=k) "
   ]
  },
  {
   "cell_type": "markdown",
   "metadata": {
    "pycharm": {
     "name": "#%% md\n"
    }
   },
   "source": [
    "Compute the accuracy of the model"
   ]
  },
  {
   "cell_type": "code",
   "execution_count": 31,
   "metadata": {
    "pycharm": {
     "is_executing": true,
     "name": "#%%\n"
    }
   },
   "outputs": [
    {
     "name": "stdout",
     "output_type": "stream",
     "text": [
      "79.42998760842627\n",
      "421.627000093\n"
     ]
    }
   ],
   "source": [
    "accuracy = 100*knn_best.score(visual_words_test, test_labels)\n",
    "print(accuracy)\n",
    "end = time.time()\n",
    "print(end - start)"
   ]
  },
  {
   "cell_type": "markdown",
   "metadata": {},
   "source": [
    "Dimensionality reduction, with PCA and LDA. Following the example just seen before, we can also do Cross-Validation:"
   ]
  },
  {
   "cell_type": "code",
   "execution_count": 14,
   "metadata": {
    "pycharm": {
     "is_executing": false
    }
   },
   "outputs": [
    {
     "name": "stderr",
     "output_type": "stream",
     "text": [
      "c:\\users\\sergio\\desktop\\machine learning for cv\\project\\mcv-2019-m3\\venv\\lib\\site-packages\\sklearn\\model_selection\\_search.py:842: DeprecationWarning: The default of the `iid` parameter will change from True to False in version 0.22 and will be removed in 0.24. This will change numeric results when test-set sizes are unequal.\n",
      "  DeprecationWarning)\n"
     ]
    },
    {
     "name": "stdout",
     "output_type": "stream",
     "text": [
      "Maximum accuracy for validation set is 73.89686337054758 with n_neighbors = 15 and metric = manhattan\n",
      "74.72118959107806\n",
      "Maximum accuracy for validation set is 88.6762360446571 with n_neighbors = 20 and metric = euclidean\n",
      "82.15613382899627\n",
      "Maximum accuracy for validation set is 88.6762360446571 with n_neighbors = 20 and metric = euclidean\n",
      "82.15613382899627\n"
     ]
    }
   ],
   "source": [
    "# Principal Component Analysis\n",
    "pca = PCA(n_components=None)\n",
    "VWpca = pca.fit_transform(visual_words)\n",
    "\n",
    "# Find best parameters\n",
    "knnpca = KNeighborsClassifier(n_jobs=-1)\n",
    "clfpca = GridSearchCV(knnpca, parameters, cv=5) # StratifiedKFold n_splits = 5\n",
    "clfpca.fit(VWpca, train_labels) \n",
    "meanspca = 100 * clfpca.cv_results_['mean_test_score']\n",
    "print (\"Maximum accuracy for validation set is\", max(meanspca), \"with n_neighbors =\", clfpca.best_params_['n_neighbors'], \"and metric =\",  clfpca.best_params_['metric']) \n",
    "\n",
    "# Train again with best parameters\n",
    "knnpca_best = KNeighborsClassifier(n_neighbors= clfpca.best_params_['n_neighbors'],n_jobs=-1,metric=clfpca.best_params_['metric'])\n",
    "knnpca_best.fit(VWpca, train_labels) \n",
    "\n",
    "vwtestpca = pca.transform(visual_words_test)\n",
    "accuracy = 100*knnpca_best.score(vwtestpca, test_labels)\n",
    "print(accuracy)\n",
    "\n",
    "\n",
    "# Linear Discriminant Analysis\n",
    "lda = LinearDiscriminantAnalysis(n_components=None)\n",
    "VWlda = lda.fit_transform(visual_words,train_labels)\n",
    "\n",
    "# Find best parameters\n",
    "knnlda = KNeighborsClassifier(n_jobs=-1)\n",
    "clflda = GridSearchCV(knnlda, parameters, cv=5) # StratifiedKFold n_splits = 5\n",
    "clflda.fit(VWlda, train_labels) \n",
    "meanslda = 100 * clflda.cv_results_['mean_test_score']\n",
    "print (\"Maximum accuracy for validation set is\", max(meanslda), \"with n_neighbors =\", clflda.best_params_['n_neighbors'], \"and metric =\",  clflda.best_params_['metric']) \n",
    "\n",
    "# Train again with best parameters\n",
    "knnlda_best = KNeighborsClassifier(n_neighbors= clflda.best_params_['n_neighbors'],n_jobs=-1,metric=clflda.best_params_['metric'])\n",
    "knnlda_best.fit(VWlda, train_labels) \n",
    "\n",
    "vwtestlda = lda.transform(visual_words_test)\n",
    "accuracy = 100*knnlda_best.score(vwtestlda, test_labels)\n",
    "print(accuracy)"
   ]
  },
  {
   "cell_type": "markdown",
   "metadata": {
    "pycharm": {
     "name": "#%% md\n"
    }
   },
   "source": [
    "**RESULTS AND DISCUSSION**"
   ]
  },
  {
   "cell_type": "markdown",
   "metadata": {},
   "source": [
    "We first implemented Dense SIFT. Compared to last weeks's results, \n",
    "we improved around 10-15%, depending on dimensionality reduction and other factors.\n",
    "Then, we analysed the behaviour of Dense SIFT when changing the number of pixels between keypoints.\n",
    "The results can be seen in the following graphic:"
   ]
  },
  {
   "cell_type": "code",
   "execution_count": 16,
   "metadata": {
    "pycharm": {
     "is_executing": false,
     "name": "#%%\n"
    }
   },
   "outputs": [
    {
     "data": {
      "image/png": "[encoded data removed]",
      "text/plain": [
       "<Figure size 432x288 with 1 Axes>"
      ]
     },
     "metadata": {
      "needs_background": "light"
     },
     "output_type": "display_data"
    },
    {
     "name": "stdout",
     "output_type": "stream",
     "text": [
      "Local max is 77.69 % accuracy at step= 16\n",
      "Local max is 77.69 % accuracy at step= 16\n",
      "Local max is 77.69 % PCA accuracy at step= 12\n",
      "Local max is 84.13 % LDA accuracy at step= 6\n"
     ]
    },
    {
     "data": {
      "image/png": "[encoded data removed]",
      "text/plain": [
       "<Figure size 432x288 with 1 Axes>"
      ]
     },
     "metadata": {
      "needs_background": "light"
     },
     "output_type": "display_data"
    },
    {
     "name": "stdout",
     "output_type": "stream",
     "text": [
      "Local max is 77.69 % PCA accuracy at step= 12\n"
     ]
    },
    {
     "data": {
      "image/png": "[encoded data removed]",
      "text/plain": [
       "<Figure size 432x288 with 1 Axes>"
      ]
     },
     "metadata": {
      "needs_background": "light"
     },
     "output_type": "display_data"
    },
    {
     "name": "stdout",
     "output_type": "stream",
     "text": [
      "Local max is 84.13 % LDA accuracy at step= 6\n"
     ]
    },
    {
     "data": {
      "image/png": "[encoded data removed]",
      "text/plain": "<Figure size 432x288 with 1 Axes>"
     },
     "metadata": {
      "needs_background": "light"
     },
     "output_type": "display_data"
    },
    {
     "data": {
      "image/png": "[encoded data removed]",
      "text/plain": "<Figure size 432x288 with 1 Axes>"
     },
     "metadata": {
      "needs_background": "light"
     },
     "output_type": "display_data"
    },
    {
     "data": {
      "image/png": "[encoded data removed]",
      "text/plain": "<Figure size 432x288 with 1 Axes>"
     },
     "metadata": {
      "needs_background": "light"
     },
     "output_type": "display_data"
    }
   ],
   "source": [
    "step = [4,6,8,10,12,14,16,18,20]\n",
    "accuracy = [70.63,74.10,75.09,76.08,76.08,77.32,77.69,75.58,76.70]\n",
    "lda_accuracy = [83.39,84.13,83.27,81.16,83.27,81.04,81.9,80.79,80.17]\n",
    "pca_accuracy = [72.49,73.60,74.34,77.32,77.69,76.08,76.70,75.24,77.19]\n",
    "\n",
    "# Accuracy\n",
    "plt.scatter(step, accuracy)\n",
    "plt.ylim((0, 100))\n",
    "plt.xlabel(\"Step size\")\n",
    "plt.ylabel(\"Accuracy (%)\")\n",
    "ymax = max(accuracy)\n",
    "xpos = accuracy.index(ymax)\n",
    "xmax = step[xpos]\n",
    "plt.annotate('   local max', xy=(xmax, ymax), xytext=(xmax, ymax+5),\n",
    "            arrowprops=dict(facecolor='black', shrink=0.05),)\n",
    "plt.show()\n",
    "print(\"Local max is\", ymax,\"% accuracy at step=\",xmax)\n",
    "    \n",
    "\n",
    "# Principal Component Analysis\n",
    "plt.scatter(step, pca_accuracy)\n",
    "plt.ylim((0, 100))\n",
    "plt.xlabel(\"Step size\")\n",
    "plt.ylabel(\"PCA Accuracy (%)\")\n",
    "ymax = max(pca_accuracy)\n",
    "xpos = pca_accuracy.index(ymax)\n",
    "xmax = step[xpos]\n",
    "plt.annotate('   local max', xy=(xmax, ymax), xytext=(xmax, ymax+5),\n",
    "            arrowprops=dict(facecolor='black', shrink=0.05),)\n",
    "plt.show()\n",
    "print(\"Local max is\", ymax,\"% PCA accuracy at step=\",xmax)\n",
    "\n",
    "    \n",
    "# Linear Discriminant Analysis\n",
    "plt.scatter(step, lda_accuracy)\n",
    "plt.ylim((0, 100))\n",
    "plt.xlabel(\"Step size\")\n",
    "plt.ylabel(\"LDA Accuracy (%)\")\n",
    "ymax = max(lda_accuracy)\n",
    "xpos = lda_accuracy.index(ymax)\n",
    "xmax = step[xpos]\n",
    "plt.annotate('    local max', xy=(xmax, ymax), xytext=(xmax, ymax+5),\n",
    "            arrowprops=dict(facecolor='black', shrink=0.05),)\n",
    "\n",
    "plt.show()\n",
    "print(\"Local max is\", ymax,\"% LDA accuracy at step=\",xmax)"
   ]
  },
  {
   "cell_type": "markdown",
   "metadata": {
    "pycharm": {
     "name": "#%% md\n"
    }
   },
   "source": [
    "We have decided that a step of 8 pixels is the best one, as it accomplishes\n",
    "one of the best LDA accuracies while not taking much time to complete the computations.\n",
    "\n",
    "After that, we resized the images to new scales to see if the performance \n",
    "could be further improved:"
   ]
  },
  {
   "cell_type": "code",
   "execution_count": 18,
   "metadata": {
    "pycharm": {
     "is_executing": false,
     "name": "#%%\n"
    }
   },
   "outputs": [
    {
     "data": {
      "image/png": "[encoded data removed]",
      "text/plain": [
       "<Figure size 432x288 with 1 Axes>"
      ]
     },
     "metadata": {
      "needs_background": "light"
     },
     "output_type": "display_data"
    },
    {
     "name": "stdout",
     "output_type": "stream",
     "text": [
      "Local max is 75.83 % accuracy at scale= 75\n",
      "Local max is 75.83 % accuracy at scale= 75\n",
      "Local max is 75.71 % PCA accuracy at scale= 70\n",
      "Local max is 83.27 % LDA accuracy at scale= 100\n"
     ]
    },
    {
     "data": {
      "image/png": "[encoded data removed]",
      "text/plain": [
       "<Figure size 432x288 with 1 Axes>"
      ]
     },
     "metadata": {
      "needs_background": "light"
     },
     "output_type": "display_data"
    },
    {
     "name": "stdout",
     "output_type": "stream",
     "text": [
      "Local max is 75.71 % PCA accuracy at scale= 70\n"
     ]
    },
    {
     "data": {
      "image/png": "[encoded data removed]",
      "text/plain": [
       "<Figure size 432x288 with 1 Axes>"
      ]
     },
     "metadata": {
      "needs_background": "light"
     },
     "output_type": "display_data"
    },
    {
     "name": "stdout",
     "output_type": "stream",
     "text": [
      "Local max is 83.27 % LDA accuracy at scale= 100\n"
     ]
    },
    {
     "data": {
      "image/png": "[encoded data removed]",
      "text/plain": "<Figure size 432x288 with 1 Axes>"
     },
     "metadata": {
      "needs_background": "light"
     },
     "output_type": "display_data"
    },
    {
     "data": {
      "image/png": "[encoded data removed]",
      "text/plain": "<Figure size 432x288 with 1 Axes>"
     },
     "metadata": {
      "needs_background": "light"
     },
     "output_type": "display_data"
    },
    {
     "data": {
      "image/png": "[encoded data removed]",
      "text/plain": "<Figure size 432x288 with 1 Axes>"
     },
     "metadata": {
      "needs_background": "light"
     },
     "output_type": "display_data"
    }
   ],
   "source": [
    "scale = [100,90,80,75,70,65,55,50,25]\n",
    "accuracy = [75.09,74.47,74.72,75.83,75.09,73.60,72.86,71.49,55.88]\n",
    "lda_accuracy = [83.27,81.53,72.42,81.53,81.53,80.66,77.57,77.32,60.47]\n",
    "pca_accuracy = [74.34,74.71,74.10,74.84,75.71,72.24,72.49,70.38,56.50]\n",
    "\n",
    "# Accuracy\n",
    "plt.scatter(scale, accuracy)\n",
    "plt.ylim((0, 100))\n",
    "plt.xlabel(\"Scale (% of original)\")\n",
    "plt.ylabel(\"Accuracy (%)\")\n",
    "ymax = max(accuracy)\n",
    "xpos = accuracy.index(ymax)\n",
    "xmax = scale[xpos]\n",
    "plt.annotate('   local max', xy=(xmax, ymax), xytext=(xmax, ymax+5),\n",
    "            arrowprops=dict(facecolor='black', shrink=0.05),)\n",
    "plt.show()\n",
    "print(\"Local max is\", ymax,\"% accuracy at scale=\",xmax)\n",
    "\n",
    "    \n",
    "# Principal Component Analysis\n",
    "plt.scatter(scale, pca_accuracy)\n",
    "plt.ylim((0, 100))\n",
    "plt.xlabel(\"Scale (% of original)\")\n",
    "plt.ylabel(\"PCA Accuracy (%)\")\n",
    "ymax = max(pca_accuracy)\n",
    "xpos = pca_accuracy.index(ymax)\n",
    "xmax = scale[xpos]\n",
    "plt.annotate('   local max', xy=(xmax, ymax), xytext=(xmax, ymax+5),\n",
    "            arrowprops=dict(facecolor='black', shrink=0.05),)\n",
    "plt.show()\n",
    "print(\"Local max is\", ymax,\"% PCA accuracy at scale=\",xmax)\n",
    "    \n",
    "    \n",
    "# Linear Discriminant Analysis\n",
    "plt.scatter(scale, lda_accuracy)\n",
    "plt.ylim((0, 100))\n",
    "plt.xlabel(\"Scale (% of original)\")\n",
    "plt.ylabel(\"LDA Accuracy (%)\")\n",
    "ymax = max(lda_accuracy)\n",
    "xpos = lda_accuracy.index(ymax)\n",
    "xmax = scale[xpos]\n",
    "plt.annotate('    local max', xy=(xmax, ymax), xytext=(xmax, ymax+5),\n",
    "            arrowprops=dict(facecolor='black', shrink=0.05),)\n",
    "\n",
    "plt.show()\n",
    "print(\"Local max is\", ymax,\"% LDA accuracy at scale=\",xmax)\n",
    "\n"
   ]
  },
  {
   "cell_type": "markdown",
   "metadata": {
    "pycharm": {
     "name": "#%% md\n"
    }
   },
   "source": [
    "As it can be seen from before, the best results are accomplished when the image\n",
    "is not resized (we take into account the highest accuracy, LDA at scale 100%).\n",
    "\n"
   ]
  },
  {
   "cell_type": "markdown",
   "metadata": {},
   "source": [
    "We implement different levels of spatial pyramids. Each level represents one subdivision of the image and for each division, we calculate dense SIFT descriptors. Then, we concatenate the descriptors of each block image and we use KNeighborsClassifier. We evaluate spatial pyramids using different dense SIFT steps and using cross validation."
   ]
  },
  {
   "cell_type": "code",
   "execution_count": 20,
   "metadata": {
    "pycharm": {
     "is_executing": false,
     "name": "#%%\n"
    }
   },
   "outputs": [
    {
     "data": {
      "image/png": "[encoded data removed]",
      "text/plain": [
       "<Figure size 432x288 with 1 Axes>"
      ]
     },
     "metadata": {
      "needs_background": "light"
     },
     "output_type": "display_data"
    },
    {
     "name": "stdout",
     "output_type": "stream",
     "text": [
      "Local max is 76.08 % accuracy at level= 1 with Dense SIFT step = 10\n"
     ]
    },
    {
     "data": {
      "image/png": "[encoded data removed]",
      "text/plain": [
       "<Figure size 432x288 with 1 Axes>"
      ]
     },
     "metadata": {
      "needs_background": "light"
     },
     "output_type": "display_data"
    },
    {
     "name": "stdout",
     "output_type": "stream",
     "text": [
      "Local max is 77.69 % PCA accuracy at level= 1 with Dense SIFT step = 10\n"
     ]
    },
    {
     "data": {
      "image/png": "[encoded data removed]",
      "text/plain": [
       "<Figure size 432x288 with 1 Axes>"
      ]
     },
     "metadata": {
      "needs_background": "light"
     },
     "output_type": "display_data"
    },
    {
     "name": "stdout",
     "output_type": "stream",
     "text": [
      "Local max is 82.16 % LDA accuracy at level= 2 with Dense SIFT step = 10\n"
     ]
    },
    {
     "data": {
      "image/png": "[encoded data removed]",
      "text/plain": [
       "<Figure size 432x288 with 1 Axes>"
      ]
     },
     "metadata": {
      "needs_background": "light"
     },
     "output_type": "display_data"
    },
    {
     "name": "stdout",
     "output_type": "stream",
     "text": [
      "Local max is 75.09 % accuracy at level= 1 with Dense SIFT step = 8\n"
     ]
    },
    {
     "data": {
      "image/png": "[encoded data removed]",
      "text/plain": [
       "<Figure size 432x288 with 1 Axes>"
      ]
     },
     "metadata": {
      "needs_background": "light"
     },
     "output_type": "display_data"
    },
    {
     "name": "stdout",
     "output_type": "stream",
     "text": [
      "Local max is 74.72 % PCA accuracy at level= 1 with Dense SIFT step = 8\n"
     ]
    },
    {
     "data": {
      "image/png": "[encoded data removed]",
      "text/plain": [
       "<Figure size 432x288 with 1 Axes>"
      ]
     },
     "metadata": {
      "needs_background": "light"
     },
     "output_type": "display_data"
    },
    {
     "name": "stdout",
     "output_type": "stream",
     "text": [
      "Local max is 83.27 % LDA accuracy at level= 1 with Dense SIFT step = 8\n"
     ]
    },
    {
     "data": {
      "image/png": "[encoded data removed]",
      "text/plain": [
       "<Figure size 432x288 with 1 Axes>"
      ]
     },
     "metadata": {
      "needs_background": "light"
     },
     "output_type": "display_data"
    },
    {
     "name": "stdout",
     "output_type": "stream",
     "text": [
      "Local max is 79.43 % accuracy at level= 1 with Dense SIFT step = 8 and cross-validation\n"
     ]
    }
   ],
   "source": [
    "# Spatial pyramids\n",
    "# Dense sift STEP = 10\n",
    "level = [1, 2, 3, 4]\n",
    "accuracy = [76.08, 74.1, 69.27, 67.16]\n",
    "pca_accuracy = [77.69, 76.46, 70.01, 66.54]\n",
    "lda_accuracy = [81.16, 82.16, 75.84, 74.47]\n",
    "\n",
    "# Accuracy\n",
    "plt.scatter(level, accuracy)\n",
    "plt.ylim((0, 100))\n",
    "plt.xlabel(\"Level \")\n",
    "plt.ylabel(\"Accuracy (%)\")\n",
    "ymax = max(accuracy)\n",
    "xpos = accuracy.index(ymax)\n",
    "xmax = level[xpos]\n",
    "plt.annotate('   local max', xy=(xmax, ymax), xytext=(xmax, ymax+5),\n",
    "            arrowprops=dict(facecolor='black', shrink=0.05),)\n",
    "plt.show()\n",
    "print(\"Local max is\", ymax,\"% accuracy at level=\",xmax, \"with Dense SIFT step = 10\")\n",
    "\n",
    "    \n",
    "# Principal Component Analysis\n",
    "plt.scatter(level, pca_accuracy)\n",
    "plt.ylim((0, 100))\n",
    "plt.xlabel(\"Level \")\n",
    "plt.ylabel(\"PCA Accuracy (%)\")\n",
    "ymax = max(pca_accuracy)\n",
    "xpos = pca_accuracy.index(ymax)\n",
    "xmax = level[xpos]\n",
    "plt.annotate('   local max', xy=(xmax, ymax), xytext=(xmax, ymax+5),\n",
    "            arrowprops=dict(facecolor='black', shrink=0.05),)\n",
    "plt.show()\n",
    "print(\"Local max is\", ymax,\"% PCA accuracy at level=\",xmax, \"with Dense SIFT step = 10\")\n",
    "    \n",
    "    \n",
    "# Linear Discriminant Analysis\n",
    "plt.scatter(level, lda_accuracy)\n",
    "plt.ylim((0, 100))\n",
    "plt.xlabel(\"Level\")\n",
    "plt.ylabel(\"LDA Accuracy (%)\")\n",
    "ymax = max(lda_accuracy)\n",
    "xpos = lda_accuracy.index(ymax)\n",
    "xmax = level[xpos]\n",
    "plt.annotate('    local max', xy=(xmax, ymax), xytext=(xmax, ymax+5),\n",
    "            arrowprops=dict(facecolor='black', shrink=0.05),)\n",
    "\n",
    "plt.show()\n",
    "print(\"Local max is\", ymax,\"% LDA accuracy at level=\",xmax, \"with Dense SIFT step = 10\")\n",
    "\n",
    "# Dense sift STEP = 8\n",
    "accuracy = [75.09, 73.8, 70.87, 65.79]\n",
    "pca_accuracy = [74.72, 71.87, 71.74, 66.91]\n",
    "lda_accuracy = [83.27, 81.28, 75.71, 70.38]\n",
    "\n",
    "# Accuracy\n",
    "plt.scatter(level, accuracy)\n",
    "plt.ylim((0, 100))\n",
    "plt.xlabel(\"Level \")\n",
    "plt.ylabel(\"Accuracy (%)\")\n",
    "ymax = max(accuracy)\n",
    "xpos = accuracy.index(ymax)\n",
    "xmax = level[xpos]\n",
    "plt.annotate('   local max', xy=(xmax, ymax), xytext=(xmax, ymax+5),\n",
    "            arrowprops=dict(facecolor='black', shrink=0.05),)\n",
    "plt.show()\n",
    "print(\"Local max is\", ymax,\"% accuracy at level=\",xmax, \"with Dense SIFT step = 8\")\n",
    "\n",
    "    \n",
    "# Principal Component Analysis\n",
    "plt.scatter(level, pca_accuracy)\n",
    "plt.ylim((0, 100))\n",
    "plt.xlabel(\"Level \")\n",
    "plt.ylabel(\"PCA Accuracy (%)\")\n",
    "ymax = max(pca_accuracy)\n",
    "xpos = pca_accuracy.index(ymax)\n",
    "xmax = level[xpos]\n",
    "plt.annotate('   local max', xy=(xmax, ymax), xytext=(xmax, ymax+5),\n",
    "            arrowprops=dict(facecolor='black', shrink=0.05),)\n",
    "plt.show()\n",
    "print(\"Local max is\", ymax,\"% PCA accuracy at level=\",xmax, \"with Dense SIFT step = 8\")\n",
    "    \n",
    "    \n",
    "# Linear Discriminant Analysis\n",
    "plt.scatter(level, lda_accuracy)\n",
    "plt.ylim((0, 100))\n",
    "plt.xlabel(\"Level\")\n",
    "plt.ylabel(\"LDA Accuracy (%)\")\n",
    "ymax = max(lda_accuracy)\n",
    "xpos = lda_accuracy.index(ymax)\n",
    "xmax = level[xpos]\n",
    "plt.annotate('    local max', xy=(xmax, ymax), xytext=(xmax, ymax+5),\n",
    "            arrowprops=dict(facecolor='black', shrink=0.05),)\n",
    "\n",
    "plt.show()\n",
    "print(\"Local max is\", ymax,\"% LDA accuracy at level=\",xmax, \"with Dense SIFT step = 8\")\n",
    "\n",
    "# Dense sift STEP = 8, using cross-validatiion\n",
    "accuracy = [79.43, 78.56, 75.09, 70.75]\n",
    "\n",
    "# Accuracy\n",
    "plt.scatter(level, accuracy)\n",
    "plt.ylim((0, 100))\n",
    "plt.xlabel(\"Level \")\n",
    "plt.ylabel(\"Accuracy (%)\")\n",
    "ymax = max(accuracy)\n",
    "xpos = accuracy.index(ymax)\n",
    "xmax = level[xpos]\n",
    "plt.annotate('   local max', xy=(xmax, ymax), xytext=(xmax, ymax+5),\n",
    "            arrowprops=dict(facecolor='black', shrink=0.05),)\n",
    "plt.show()\n",
    "print(\"Local max is\", ymax,\"% accuracy at level=\",xmax, \"with Dense SIFT step = 8 and cross-validation\")\n"
   ]
  },
  {
   "cell_type": "markdown",
   "metadata": {},
   "source": [
    "As we observe, spatial pyramids for Dense SIFT descriptors and KNeighborsClassifier do not help too much in the improvement of the accuracy. The majority of experiments show that level 1 is the best level (no division of the image).\n",
    "\n",
    "Following the spatial pyramids, we implemented several methodologies for data normalization: L1-norm, L2-norm, MinMaxAbs norm and max norm. Due to a bug in the implementation in Scikit-Learn's library, power-norm could not be implemented.  \n",
    "\n",
    "\n",
    "With normalisation, we also checked the difference between using or not using Cross-Validation to select the best parameters for the K-NN algorithm:"
   ]
  },
  {
   "cell_type": "code",
   "execution_count": 22,
   "metadata": {
    "pycharm": {
     "is_executing": false,
     "name": "#%%\n"
    }
   },
   "outputs": [],
   "source": [
    "# Data Normalization"
   ]
  }
 ],
 "metadata": {
  "kernelspec": {
   "display_name": "Python 2",
   "language": "python",
   "name": "python2"
  },
  "language_info": {
   "codemirror_mode": {
    "name": "ipython",
    "version": 2
   },
   "file_extension": ".py",
   "mimetype": "text/x-python",
   "name": "python",
   "nbconvert_exporter": "python",
   "pygments_lexer": "ipython2",
   "version": "2.7.15"
  },
  "pycharm": {
   "stem_cell": {
    "cell_type": "raw",
    "metadata": {
     "collapsed": false
    },
    "source": []
   }
  }
 },
 "nbformat": 4,
 "nbformat_minor": 2
}